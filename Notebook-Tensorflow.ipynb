{
 "cells": [
  {
   "cell_type": "code",
   "execution_count": 1,
   "metadata": {},
   "outputs": [
    {
     "name": "stdout",
     "output_type": "stream",
     "text": [
      "Tensorflow version is  1.13.1\n"
     ]
    },
    {
     "name": "stderr",
     "output_type": "stream",
     "text": [
      "Using TensorFlow backend.\n"
     ]
    }
   ],
   "source": [
    "from __future__ import absolute_import, division, print_function, unicode_literals\n",
    "\n",
    "import os\n",
    "\n",
    "from train_utils import plot_confusion_matrix, make_dataframe\n",
    "import tensorflow as tf\n",
    "from tensorflow import keras\n",
    "from keras import metrics\n",
    "import numpy as np\n",
    "import pandas as pd\n",
    "from sklearn.metrics import classification_report, confusion_matrix, accuracy_score\n",
    "\n",
    "import matplotlib.pyplot as plt\n",
    "import matplotlib.image as mpimg\n",
    "print(\"Tensorflow version is \", tf.__version__)"
   ]
  },
  {
   "cell_type": "markdown",
   "metadata": {},
   "source": [
    "## setup training"
   ]
  },
  {
   "cell_type": "code",
   "execution_count": 2,
   "metadata": {
    "scrolled": false
   },
   "outputs": [
    {
     "name": "stdout",
     "output_type": "stream",
     "text": [
      "Total size:  403\n",
      "Training set size:  283\n",
      "Validation set size:  53\n",
      "Test set size:  67\n",
      "Total size:  501\n",
      "Training set size:  351\n",
      "Validation set size:  66\n",
      "Test set size:  84\n",
      "Total size:  410\n",
      "Training set size:  288\n",
      "Validation set size:  54\n",
      "Test set size:  68\n",
      "Total size:  594\n",
      "Training set size:  417\n",
      "Validation set size:  78\n",
      "Test set size:  99\n",
      "Total size:  527\n",
      "Training set size:  370\n",
      "Validation set size:  69\n",
      "Test set size:  88\n"
     ]
    }
   ],
   "source": [
    "width_image = 224\n",
    "height_image = 224\n",
    "batch_size = 32\n",
    "img_shape = (width_image, height_image, 3)\n",
    "\n",
    "categories = os.listdir('dataset\\\\v2')\n",
    "data_frames = make_dataframe('dataset\\\\v2', validation_percentage = 0.13, test_percentage=0.17)\n",
    "\n",
    "train_datagen = keras.preprocessing.image.ImageDataGenerator(\n",
    "    rescale = 1./255,\n",
    "#    horizontal_flip=True,\n",
    "#    vertical_flip=True,\n",
    "#    rotation_range=15.\n",
    ")\n",
    "validation_datagen = keras.preprocessing.image.ImageDataGenerator(rescale = 1./255)\n",
    "test_datagen = keras.preprocessing.image.ImageDataGenerator(rescale = 1./255)"
   ]
  },
  {
   "cell_type": "code",
   "execution_count": 3,
   "metadata": {},
   "outputs": [
    {
     "name": "stdout",
     "output_type": "stream",
     "text": [
      "Found 1709 validated image filenames belonging to 5 classes.\n",
      "Found 320 validated image filenames belonging to 5 classes.\n",
      "Found 406 validated image filenames belonging to 5 classes.\n"
     ]
    }
   ],
   "source": [
    "# make generator\n",
    "train_generator = train_datagen.flow_from_dataframe(\n",
    "    dataframe=data_frames[0],\n",
    "    x_col='path',\n",
    "    y_col='label',\n",
    "    class_mode = 'categorical',\n",
    "    target_size = (width_image, height_image),\n",
    "    batch_size = batch_size)\n",
    "\n",
    "validation_generator = validation_datagen.flow_from_dataframe(\n",
    "    dataframe=data_frames[1],\n",
    "    x_col = 'path',\n",
    "    y_col = 'label',\n",
    "    class_mode = 'categorical',\n",
    "    target_size=(width_image, height_image),\n",
    "    batch_size = batch_size,\n",
    "    shuffle=False\n",
    ")\n",
    "\n",
    "test_generator = test_datagen.flow_from_dataframe(\n",
    "    dataframe=data_frames[2],\n",
    "    x_col = 'path',\n",
    "    y_col = 'label',\n",
    "    class_mode = 'categorical',\n",
    "    target_size=(width_image, height_image),\n",
    "    batch_size = batch_size,\n",
    "    shuffle=False\n",
    ")"
   ]
  },
  {
   "cell_type": "code",
   "execution_count": 4,
   "metadata": {},
   "outputs": [
    {
     "name": "stdout",
     "output_type": "stream",
     "text": [
      "WARNING:tensorflow:From C:\\Users\\Petreti Andrea\\Anaconda3\\lib\\site-packages\\tensorflow\\python\\ops\\resource_variable_ops.py:435: colocate_with (from tensorflow.python.framework.ops) is deprecated and will be removed in a future version.\n",
      "Instructions for updating:\n",
      "Colocations handled automatically by placer.\n"
     ]
    }
   ],
   "source": [
    "# get pre-trained MobileNet V2\n",
    "#base_model = tf.keras.applications.MobileNetV2(input_shape=img_shape,\n",
    "#                                                include_top=False,\n",
    "#                                                weights='imagenet')\n",
    "\n",
    "#base_model = tf.keras.applications.InceptionResNetV2(input_shape=img_shape,\n",
    "#                                                include_top=False,\n",
    "#                                                weights='imagenet')\n",
    "\n",
    "base_model = tf.keras.applications.densenet.DenseNet121(input_shape=img_shape,\n",
    "                                                include_top=False,\n",
    "                                                weights='imagenet')\n",
    "\n",
    "# feature extraction reuse, True for fine-tuning see tensorflow\n",
    "base_model.trainable = False"
   ]
  },
  {
   "cell_type": "markdown",
   "metadata": {},
   "source": [
    "## create model over pre-trained net"
   ]
  },
  {
   "cell_type": "code",
   "execution_count": 5,
   "metadata": {},
   "outputs": [
    {
     "name": "stdout",
     "output_type": "stream",
     "text": [
      "WARNING:tensorflow:From C:\\Users\\Petreti Andrea\\Anaconda3\\lib\\site-packages\\tensorflow\\python\\keras\\layers\\core.py:143: calling dropout (from tensorflow.python.ops.nn_ops) with keep_prob is deprecated and will be removed in a future version.\n",
      "Instructions for updating:\n",
      "Please use `rate` instead of `keep_prob`. Rate should be set to `rate = 1 - keep_prob`.\n"
     ]
    }
   ],
   "source": [
    "# create model over pre-trained graph\n",
    "model = tf.keras.Sequential([\n",
    "    base_model,\n",
    "#    keras.layers.Dense(16, kernel_regularizer=keras.regularizers.l2(0.001),\n",
    "#                       activation=tf.nn.relu, input_shape=(len(categories),)),\n",
    "#    keras.layers.Dropout(0.5),\n",
    "#    keras.layers.Dense(16, kernel_regularizer=keras.regularizers.l2(0.001),\n",
    "#                       activation=tf.nn.relu),\n",
    "    keras.layers.Dropout(0.5),\n",
    "    keras.layers.GlobalAveragePooling2D(),\n",
    "    keras.layers.Dense(len(categories), activation='softmax')\n",
    "])"
   ]
  },
  {
   "cell_type": "code",
   "execution_count": 33,
   "metadata": {},
   "outputs": [],
   "source": [
    "# add the optmizer, loss function and metric for evaluate the training\n",
    "optimizer = keras.optimizers.Adam()\n",
    "# optimizer = keras.optimizers.Nadam()\n",
    "# optimizer = keras.optimizers.Adadelta()\n",
    "# tensorflow guide use:\n",
    "#optimizer = tf.keras.optimizers.RMSprop(lr=0.0001)\n",
    "\n",
    "model.compile(optimizer=optimizer,loss='categorical_crossentropy',metrics=['accuracy'])"
   ]
  },
  {
   "cell_type": "markdown",
   "metadata": {},
   "source": [
    "## Tranining Phase"
   ]
  },
  {
   "cell_type": "code",
   "execution_count": 7,
   "metadata": {},
   "outputs": [
    {
     "name": "stdout",
     "output_type": "stream",
     "text": [
      "WARNING:tensorflow:From C:\\Users\\Petreti Andrea\\Anaconda3\\lib\\site-packages\\tensorflow\\python\\ops\\math_ops.py:3066: to_int32 (from tensorflow.python.ops.math_ops) is deprecated and will be removed in a future version.\n",
      "Instructions for updating:\n",
      "Use tf.cast instead.\n",
      "Epoch 1/100\n",
      "10/10 [==============================] - 5s 481ms/step - loss: 0.9935 - acc: 0.6031\n",
      "54/54 [==============================] - 26s 485ms/step - loss: 1.3631 - acc: 0.4547 - val_loss: 0.9935 - val_acc: 0.6031\n",
      "Epoch 2/100\n",
      "10/10 [==============================] - 3s 274ms/step - loss: 0.7259 - acc: 0.7250\n",
      "54/54 [==============================] - 18s 337ms/step - loss: 0.8230 - acc: 0.7045 - val_loss: 0.7259 - val_acc: 0.7250\n",
      "Epoch 3/100\n",
      "10/10 [==============================] - 3s 278ms/step - loss: 0.5906 - acc: 0.8062\n",
      "54/54 [==============================] - 18s 340ms/step - loss: 0.6154 - acc: 0.7970 - val_loss: 0.5906 - val_acc: 0.8062\n",
      "Epoch 4/100\n",
      "10/10 [==============================] - 3s 277ms/step - loss: 0.5489 - acc: 0.8000\n",
      "54/54 [==============================] - 18s 340ms/step - loss: 0.5339 - acc: 0.8215 - val_loss: 0.5489 - val_acc: 0.8000\n",
      "Epoch 5/100\n",
      "10/10 [==============================] - 3s 275ms/step - loss: 0.5104 - acc: 0.8344\n",
      "54/54 [==============================] - 18s 340ms/step - loss: 0.4929 - acc: 0.8280 - val_loss: 0.5104 - val_acc: 0.8344\n",
      "Epoch 6/100\n",
      "10/10 [==============================] - 3s 285ms/step - loss: 0.4464 - acc: 0.8438\n",
      "54/54 [==============================] - 18s 341ms/step - loss: 0.4370 - acc: 0.8525 - val_loss: 0.4464 - val_acc: 0.8438\n",
      "Epoch 7/100\n",
      "10/10 [==============================] - 3s 285ms/step - loss: 0.4035 - acc: 0.8750\n",
      "54/54 [==============================] - 19s 344ms/step - loss: 0.4041 - acc: 0.8613 - val_loss: 0.4035 - val_acc: 0.8750\n",
      "Epoch 8/100\n",
      "10/10 [==============================] - 3s 279ms/step - loss: 0.3947 - acc: 0.8687\n",
      "54/54 [==============================] - 18s 341ms/step - loss: 0.3672 - acc: 0.8754 - val_loss: 0.3947 - val_acc: 0.8687\n",
      "Epoch 9/100\n",
      "10/10 [==============================] - 3s 278ms/step - loss: 0.3773 - acc: 0.8906\n",
      "54/54 [==============================] - 18s 341ms/step - loss: 0.3661 - acc: 0.8713 - val_loss: 0.3773 - val_acc: 0.8906\n",
      "Epoch 10/100\n",
      "10/10 [==============================] - 3s 278ms/step - loss: 0.3626 - acc: 0.8875\n",
      "54/54 [==============================] - 18s 341ms/step - loss: 0.3458 - acc: 0.8865 - val_loss: 0.3626 - val_acc: 0.8875\n",
      "Epoch 11/100\n",
      "10/10 [==============================] - 3s 289ms/step - loss: 0.3516 - acc: 0.8781\n",
      "54/54 [==============================] - 19s 343ms/step - loss: 0.3425 - acc: 0.8917 - val_loss: 0.3516 - val_acc: 0.8781\n",
      "Epoch 12/100\n",
      "10/10 [==============================] - 3s 289ms/step - loss: 0.3533 - acc: 0.8813\n",
      "54/54 [==============================] - 19s 344ms/step - loss: 0.3206 - acc: 0.8970 - val_loss: 0.3533 - val_acc: 0.8813\n",
      "Epoch 13/100\n",
      "10/10 [==============================] - 3s 285ms/step - loss: 0.3428 - acc: 0.8906\n",
      "54/54 [==============================] - 19s 343ms/step - loss: 0.2848 - acc: 0.9116 - val_loss: 0.3428 - val_acc: 0.8906\n",
      "Epoch 14/100\n",
      "10/10 [==============================] - 3s 282ms/step - loss: 0.3405 - acc: 0.8844\n",
      "54/54 [==============================] - 18s 342ms/step - loss: 0.2697 - acc: 0.9146 - val_loss: 0.3405 - val_acc: 0.8844\n",
      "Epoch 16/100\n",
      "10/10 [==============================] - 3s 279ms/step - loss: 0.3443 - acc: 0.8813\n",
      "54/54 [==============================] - 19s 343ms/step - loss: 0.2630 - acc: 0.9245 - val_loss: 0.3443 - val_acc: 0.8813\n",
      "Epoch 17/100\n",
      "10/10 [==============================] - 3s 283ms/step - loss: 0.3246 - acc: 0.9000\n",
      "54/54 [==============================] - 18s 341ms/step - loss: 0.2659 - acc: 0.9116 - val_loss: 0.3246 - val_acc: 0.9000\n",
      "Epoch 18/100\n",
      "10/10 [==============================] - 3s 280ms/step - loss: 0.3450 - acc: 0.8750\n",
      "54/54 [==============================] - 19s 343ms/step - loss: 0.2652 - acc: 0.9140 - val_loss: 0.3450 - val_acc: 0.8750\n",
      "Epoch 19/100\n",
      "10/10 [==============================] - 3s 296ms/step - loss: 0.3300 - acc: 0.8906\n",
      "54/54 [==============================] - 19s 346ms/step - loss: 0.2503 - acc: 0.9239 - val_loss: 0.3300 - val_acc: 0.8906\n",
      "Epoch 20/100\n",
      "10/10 [==============================] - 3s 282ms/step - loss: 0.3291 - acc: 0.8844\n",
      "54/54 [==============================] - 18s 342ms/step - loss: 0.2269 - acc: 0.9339 - val_loss: 0.3291 - val_acc: 0.8844\n",
      "Epoch 21/100\n",
      "10/10 [==============================] - 3s 282ms/step - loss: 0.3233 - acc: 0.9000\n",
      "54/54 [==============================] - 18s 342ms/step - loss: 0.2429 - acc: 0.9233 - val_loss: 0.3233 - val_acc: 0.9000\n",
      "Epoch 22/100\n",
      "10/10 [==============================] - 3s 282ms/step - loss: 0.3214 - acc: 0.8938\n",
      "54/54 [==============================] - 18s 341ms/step - loss: 0.2303 - acc: 0.9315 - val_loss: 0.3214 - val_acc: 0.8938\n",
      "Epoch 23/100\n",
      "10/10 [==============================] - 3s 287ms/step - loss: 0.3152 - acc: 0.8906\n",
      "54/54 [==============================] - 19s 346ms/step - loss: 0.2270 - acc: 0.9228 - val_loss: 0.3152 - val_acc: 0.8906\n",
      "Epoch 24/100\n",
      "10/10 [==============================] - 3s 290ms/step - loss: 0.3257 - acc: 0.8875\n",
      "54/54 [==============================] - 19s 345ms/step - loss: 0.2082 - acc: 0.9374 - val_loss: 0.3257 - val_acc: 0.8875\n",
      "Epoch 25/100\n",
      "10/10 [==============================] - 3s 285ms/step - loss: 0.3169 - acc: 0.8906\n",
      "54/54 [==============================] - 19s 344ms/step - loss: 0.2318 - acc: 0.9274 - val_loss: 0.3169 - val_acc: 0.8906\n",
      "Epoch 26/100\n",
      "10/10 [==============================] - 3s 279ms/step - loss: 0.3157 - acc: 0.8969\n",
      "54/54 [==============================] - 19s 345ms/step - loss: 0.2053 - acc: 0.9368 - val_loss: 0.3157 - val_acc: 0.8969\n",
      "Epoch 27/100\n",
      "10/10 [==============================] - 3s 289ms/step - loss: 0.3256 - acc: 0.8875\n",
      "54/54 [==============================] - 19s 346ms/step - loss: 0.2173 - acc: 0.9315 - val_loss: 0.3256 - val_acc: 0.8875\n",
      "Epoch 28/100\n",
      "10/10 [==============================] - 3s 282ms/step - loss: 0.3179 - acc: 0.9031\n",
      "54/54 [==============================] - 18s 342ms/step - loss: 0.2184 - acc: 0.9257 - val_loss: 0.3179 - val_acc: 0.9031\n",
      "Epoch 29/100\n",
      "10/10 [==============================] - 3s 282ms/step - loss: 0.3169 - acc: 0.8969\n",
      "54/54 [==============================] - 18s 342ms/step - loss: 0.1964 - acc: 0.9456 - val_loss: 0.3169 - val_acc: 0.8969\n",
      "Epoch 30/100\n",
      "10/10 [==============================] - 3s 278ms/step - loss: 0.3072 - acc: 0.9000\n",
      "54/54 [==============================] - 18s 343ms/step - loss: 0.2179 - acc: 0.9257 - val_loss: 0.3072 - val_acc: 0.9000\n",
      "Epoch 31/100\n",
      "10/10 [==============================] - 3s 288ms/step - loss: 0.3090 - acc: 0.8906\n",
      "54/54 [==============================] - 19s 344ms/step - loss: 0.1901 - acc: 0.9456 - val_loss: 0.3090 - val_acc: 0.8906\n",
      "Epoch 32/100\n",
      "10/10 [==============================] - 3s 289ms/step - loss: 0.3240 - acc: 0.8938\n",
      "54/54 [==============================] - 19s 344ms/step - loss: 0.1853 - acc: 0.9438 - val_loss: 0.3240 - val_acc: 0.8938\n",
      "Epoch 33/100\n",
      "10/10 [==============================] - 3s 282ms/step - loss: 0.3146 - acc: 0.9000\n",
      "54/54 [==============================] - 18s 342ms/step - loss: 0.1934 - acc: 0.9333 - val_loss: 0.3146 - val_acc: 0.9000\n",
      "Epoch 34/100\n",
      "10/10 [==============================] - 3s 279ms/step - loss: 0.3112 - acc: 0.8938\n",
      "54/54 [==============================] - 18s 343ms/step - loss: 0.1856 - acc: 0.9362 - val_loss: 0.3112 - val_acc: 0.8938\n",
      "Epoch 35/100\n",
      "10/10 [==============================] - 3s 285ms/step - loss: 0.3195 - acc: 0.8813\n",
      "54/54 [==============================] - 19s 344ms/step - loss: 0.1830 - acc: 0.9362 - val_loss: 0.3195 - val_acc: 0.8813\n",
      "Epoch 36/100\n",
      "10/10 [==============================] - 3s 282ms/step - loss: 0.3092 - acc: 0.8906\n",
      "54/54 [==============================] - 18s 342ms/step - loss: 0.1816 - acc: 0.9362 - val_loss: 0.3092 - val_acc: 0.8906\n",
      "Epoch 37/100\n",
      "10/10 [==============================] - 3s 285ms/step - loss: 0.3189 - acc: 0.8813\n",
      "54/54 [==============================] - 19s 343ms/step - loss: 0.1755 - acc: 0.9462 - val_loss: 0.3189 - val_acc: 0.8813\n",
      "Epoch 38/100\n",
      "10/10 [==============================] - 3s 286ms/step - loss: 0.3041 - acc: 0.8938\n",
      "54/54 [==============================] - 19s 344ms/step - loss: 0.1597 - acc: 0.9602 - val_loss: 0.3041 - val_acc: 0.8938\n",
      "Epoch 39/100\n",
      "10/10 [==============================] - 3s 285ms/step - loss: 0.3201 - acc: 0.8938\n",
      "54/54 [==============================] - 19s 344ms/step - loss: 0.1767 - acc: 0.9432 - val_loss: 0.3201 - val_acc: 0.8938\n",
      "Epoch 40/100\n",
      "10/10 [==============================] - 3s 295ms/step - loss: 0.3227 - acc: 0.8813\n",
      "54/54 [==============================] - 19s 347ms/step - loss: 0.1720 - acc: 0.9409 - val_loss: 0.3227 - val_acc: 0.8813\n",
      "Epoch 41/100\n",
      "10/10 [==============================] - 3s 284ms/step - loss: 0.3146 - acc: 0.8906\n",
      "54/54 [==============================] - 19s 343ms/step - loss: 0.1605 - acc: 0.9567 - val_loss: 0.3146 - val_acc: 0.8906\n",
      "Epoch 42/100\n",
      "10/10 [==============================] - 3s 282ms/step - loss: 0.3132 - acc: 0.8906\n",
      "54/54 [==============================] - 19s 343ms/step - loss: 0.1667 - acc: 0.9503 - val_loss: 0.3132 - val_acc: 0.8906\n",
      "Epoch 43/100\n",
      "10/10 [==============================] - 3s 289ms/step - loss: 0.3019 - acc: 0.8875\n",
      "54/54 [==============================] - 19s 345ms/step - loss: 0.1830 - acc: 0.9456 - val_loss: 0.3019 - val_acc: 0.8875\n",
      "Epoch 44/100\n",
      "10/10 [==============================] - 3s 295ms/step - loss: 0.3233 - acc: 0.8906\n",
      "54/54 [==============================] - 19s 346ms/step - loss: 0.1866 - acc: 0.9450 - val_loss: 0.3233 - val_acc: 0.8906\n",
      "Epoch 45/100\n",
      "10/10 [==============================] - 3s 279ms/step - loss: 0.3056 - acc: 0.8906\n",
      "54/54 [==============================] - 19s 343ms/step - loss: 0.1664 - acc: 0.9444 - val_loss: 0.3056 - val_acc: 0.8906\n",
      "Epoch 46/100\n",
      "10/10 [==============================] - 3s 279ms/step - loss: 0.3121 - acc: 0.8906\n",
      "54/54 [==============================] - 19s 343ms/step - loss: 0.1643 - acc: 0.9479 - val_loss: 0.3121 - val_acc: 0.8906\n",
      "Epoch 47/100\n",
      "10/10 [==============================] - 3s 283ms/step - loss: 0.3323 - acc: 0.8906\n",
      "54/54 [==============================] - 18s 341ms/step - loss: 0.1561 - acc: 0.9479 - val_loss: 0.3323 - val_acc: 0.8906\n",
      "Epoch 48/100\n",
      "10/10 [==============================] - 3s 287ms/step - loss: 0.3338 - acc: 0.8844\n",
      "54/54 [==============================] - 19s 344ms/step - loss: 0.1663 - acc: 0.9468 - val_loss: 0.3338 - val_acc: 0.8844\n",
      "Epoch 49/100\n",
      "10/10 [==============================] - 3s 283ms/step - loss: 0.3202 - acc: 0.8813\n",
      "54/54 [==============================] - 18s 342ms/step - loss: 0.1570 - acc: 0.9485 - val_loss: 0.3202 - val_acc: 0.8813\n",
      "Epoch 50/100\n",
      "10/10 [==============================] - 3s 290ms/step - loss: 0.3136 - acc: 0.8875\n",
      "54/54 [==============================] - 19s 346ms/step - loss: 0.1764 - acc: 0.9468 - val_loss: 0.3136 - val_acc: 0.8875\n",
      "Epoch 51/100\n",
      "10/10 [==============================] - 3s 280ms/step - loss: 0.3060 - acc: 0.8844\n",
      "54/54 [==============================] - 18s 342ms/step - loss: 0.1499 - acc: 0.9479 - val_loss: 0.3060 - val_acc: 0.8844\n",
      "Epoch 52/100\n",
      "10/10 [==============================] - 3s 288ms/step - loss: 0.3238 - acc: 0.8906\n",
      "54/54 [==============================] - 19s 346ms/step - loss: 0.1466 - acc: 0.9549 - val_loss: 0.3238 - val_acc: 0.8906\n",
      "Epoch 53/100\n",
      "10/10 [==============================] - 3s 282ms/step - loss: 0.3081 - acc: 0.8938\n",
      "54/54 [==============================] - 18s 342ms/step - loss: 0.1536 - acc: 0.9450 - val_loss: 0.3081 - val_acc: 0.8938\n",
      "Epoch 54/100\n",
      "10/10 [==============================] - 3s 278ms/step - loss: 0.3174 - acc: 0.8906\n",
      "54/54 [==============================] - 19s 343ms/step - loss: 0.1348 - acc: 0.9544 - val_loss: 0.3174 - val_acc: 0.8906\n",
      "Epoch 55/100\n",
      "10/10 [==============================] - 3s 318ms/step - loss: 0.3170 - acc: 0.8938\n",
      "54/54 [==============================] - 20s 361ms/step - loss: 0.1269 - acc: 0.9614 - val_loss: 0.3170 - val_acc: 0.8938\n",
      "Epoch 56/100\n",
      "10/10 [==============================] - 3s 301ms/step - loss: 0.3055 - acc: 0.9000\n",
      "54/54 [==============================] - 19s 359ms/step - loss: 0.1704 - acc: 0.9409 - val_loss: 0.3055 - val_acc: 0.9000\n",
      "Epoch 57/100\n",
      "10/10 [==============================] - 3s 299ms/step - loss: 0.3127 - acc: 0.8938\n",
      "54/54 [==============================] - 19s 353ms/step - loss: 0.1520 - acc: 0.9473 - val_loss: 0.3127 - val_acc: 0.8938\n",
      "Epoch 58/100\n",
      "10/10 [==============================] - 3s 282ms/step - loss: 0.3409 - acc: 0.8875\n",
      "54/54 [==============================] - 19s 345ms/step - loss: 0.1513 - acc: 0.9508 - val_loss: 0.3409 - val_acc: 0.8875\n",
      "Epoch 59/100\n",
      "10/10 [==============================] - 3s 286ms/step - loss: 0.3117 - acc: 0.9000\n",
      "54/54 [==============================] - 19s 345ms/step - loss: 0.1584 - acc: 0.9479 - val_loss: 0.3117 - val_acc: 0.9000\n",
      "Epoch 60/100\n",
      "10/10 [==============================] - 3s 296ms/step - loss: 0.3213 - acc: 0.8875\n",
      "54/54 [==============================] - 19s 347ms/step - loss: 0.1579 - acc: 0.9450 - val_loss: 0.3213 - val_acc: 0.8875\n",
      "Epoch 61/100\n",
      "10/10 [==============================] - 3s 289ms/step - loss: 0.3094 - acc: 0.8906\n",
      "54/54 [==============================] - 19s 344ms/step - loss: 0.1515 - acc: 0.9538 - val_loss: 0.3094 - val_acc: 0.8906\n",
      "Epoch 62/100\n",
      "10/10 [==============================] - 3s 284ms/step - loss: 0.3239 - acc: 0.8844\n",
      "54/54 [==============================] - 19s 344ms/step - loss: 0.1572 - acc: 0.9444 - val_loss: 0.3239 - val_acc: 0.8844\n",
      "Epoch 63/100\n",
      "10/10 [==============================] - 3s 282ms/step - loss: 0.3267 - acc: 0.8781\n",
      "54/54 [==============================] - 18s 342ms/step - loss: 0.1441 - acc: 0.9508 - val_loss: 0.3267 - val_acc: 0.8781\n",
      "Epoch 64/100\n",
      "10/10 [==============================] - 3s 288ms/step - loss: 0.3045 - acc: 0.8938\n",
      "54/54 [==============================] - 19s 344ms/step - loss: 0.1399 - acc: 0.9538 - val_loss: 0.3045 - val_acc: 0.8938\n",
      "Epoch 65/100\n",
      "10/10 [==============================] - 3s 285ms/step - loss: 0.3131 - acc: 0.8938\n",
      "54/54 [==============================] - 19s 345ms/step - loss: 0.1386 - acc: 0.9520 - val_loss: 0.3131 - val_acc: 0.8938\n",
      "Epoch 66/100\n",
      "10/10 [==============================] - 3s 280ms/step - loss: 0.3157 - acc: 0.8938\n",
      "54/54 [==============================] - 19s 343ms/step - loss: 0.1522 - acc: 0.9473 - val_loss: 0.3157 - val_acc: 0.8938\n",
      "Epoch 67/100\n",
      "10/10 [==============================] - 3s 285ms/step - loss: 0.3213 - acc: 0.8906\n",
      "54/54 [==============================] - 19s 344ms/step - loss: 0.1546 - acc: 0.9450 - val_loss: 0.3213 - val_acc: 0.8906\n",
      "Epoch 68/100\n",
      "10/10 [==============================] - 3s 295ms/step - loss: 0.3390 - acc: 0.9000\n",
      "54/54 [==============================] - 19s 346ms/step - loss: 0.1500 - acc: 0.9491 - val_loss: 0.3390 - val_acc: 0.9000\n",
      "Epoch 69/100\n",
      "10/10 [==============================] - 3s 282ms/step - loss: 0.3177 - acc: 0.8844\n",
      "54/54 [==============================] - 18s 342ms/step - loss: 0.1288 - acc: 0.9637 - val_loss: 0.3177 - val_acc: 0.8844\n",
      "Epoch 70/100\n",
      "10/10 [==============================] - 3s 281ms/step - loss: 0.3295 - acc: 0.8938\n",
      "54/54 [==============================] - 18s 342ms/step - loss: 0.1345 - acc: 0.9573 - val_loss: 0.3295 - val_acc: 0.8938\n",
      "Epoch 71/100\n",
      "10/10 [==============================] - 3s 285ms/step - loss: 0.3179 - acc: 0.8938\n",
      "54/54 [==============================] - 19s 343ms/step - loss: 0.1543 - acc: 0.9427 - val_loss: 0.3179 - val_acc: 0.8938\n",
      "Epoch 72/100\n",
      "10/10 [==============================] - 3s 284ms/step - loss: 0.3220 - acc: 0.8875\n",
      "54/54 [==============================] - 18s 342ms/step - loss: 0.1383 - acc: 0.9573 - val_loss: 0.3220 - val_acc: 0.8875\n",
      "Epoch 73/100\n",
      "10/10 [==============================] - 3s 286ms/step - loss: 0.3235 - acc: 0.8938\n",
      "54/54 [==============================] - 19s 344ms/step - loss: 0.1283 - acc: 0.9573 - val_loss: 0.3235 - val_acc: 0.8938\n",
      "Epoch 74/100\n",
      "10/10 [==============================] - 3s 288ms/step - loss: 0.3115 - acc: 0.8906\n",
      "54/54 [==============================] - 19s 343ms/step - loss: 0.1250 - acc: 0.9672 - val_loss: 0.3115 - val_acc: 0.8906\n",
      "Epoch 75/100\n",
      "10/10 [==============================] - 3s 281ms/step - loss: 0.3250 - acc: 0.8875\n",
      "54/54 [==============================] - 19s 344ms/step - loss: 0.1320 - acc: 0.9514 - val_loss: 0.3250 - val_acc: 0.8875\n"
     ]
    },
    {
     "name": "stdout",
     "output_type": "stream",
     "text": [
      "Epoch 76/100\n",
      "10/10 [==============================] - 3s 286ms/step - loss: 0.3183 - acc: 0.8938\n",
      "54/54 [==============================] - 19s 344ms/step - loss: 0.1241 - acc: 0.9579 - val_loss: 0.3183 - val_acc: 0.8938\n",
      "Epoch 77/100\n",
      "10/10 [==============================] - 3s 278ms/step - loss: 0.3281 - acc: 0.8875\n",
      "54/54 [==============================] - 18s 342ms/step - loss: 0.1266 - acc: 0.9602 - val_loss: 0.3281 - val_acc: 0.8875\n",
      "Epoch 78/100\n",
      "10/10 [==============================] - 3s 280ms/step - loss: 0.3251 - acc: 0.9094\n",
      "54/54 [==============================] - 19s 343ms/step - loss: 0.1201 - acc: 0.9661 - val_loss: 0.3251 - val_acc: 0.9094\n",
      "Epoch 79/100\n",
      "10/10 [==============================] - 3s 281ms/step - loss: 0.3126 - acc: 0.8969\n",
      "54/54 [==============================] - 18s 342ms/step - loss: 0.1355 - acc: 0.9549 - val_loss: 0.3126 - val_acc: 0.8969\n",
      "Epoch 80/100\n",
      "10/10 [==============================] - 3s 295ms/step - loss: 0.3180 - acc: 0.8875\n",
      "54/54 [==============================] - 19s 346ms/step - loss: 0.1163 - acc: 0.9643 - val_loss: 0.3180 - val_acc: 0.8875\n",
      "Epoch 81/100\n",
      "10/10 [==============================] - 3s 282ms/step - loss: 0.3328 - acc: 0.8844\n",
      "54/54 [==============================] - 18s 342ms/step - loss: 0.1277 - acc: 0.9614 - val_loss: 0.3328 - val_acc: 0.8844\n",
      "Epoch 82/100\n",
      "10/10 [==============================] - 3s 281ms/step - loss: 0.3568 - acc: 0.8844\n",
      "54/54 [==============================] - 18s 342ms/step - loss: 0.1160 - acc: 0.9655 - val_loss: 0.3568 - val_acc: 0.8844\n",
      "Epoch 83/100\n",
      "10/10 [==============================] - 3s 288ms/step - loss: 0.3495 - acc: 0.8844\n",
      "54/54 [==============================] - 19s 345ms/step - loss: 0.1349 - acc: 0.9567 - val_loss: 0.3495 - val_acc: 0.8844\n",
      "Epoch 84/100\n",
      "10/10 [==============================] - 3s 282ms/step - loss: 0.3175 - acc: 0.8969\n",
      "54/54 [==============================] - 19s 343ms/step - loss: 0.1179 - acc: 0.9637 - val_loss: 0.3175 - val_acc: 0.8969\n",
      "Epoch 85/100\n",
      "10/10 [==============================] - 3s 287ms/step - loss: 0.3139 - acc: 0.8969\n",
      "54/54 [==============================] - 19s 344ms/step - loss: 0.1187 - acc: 0.9666 - val_loss: 0.3139 - val_acc: 0.8969\n",
      "Epoch 86/100\n",
      "10/10 [==============================] - 3s 280ms/step - loss: 0.3262 - acc: 0.8938\n",
      "54/54 [==============================] - 18s 342ms/step - loss: 0.1132 - acc: 0.9643 - val_loss: 0.3262 - val_acc: 0.8938\n",
      "Epoch 87/100\n",
      "10/10 [==============================] - 3s 290ms/step - loss: 0.3525 - acc: 0.8969\n",
      "54/54 [==============================] - 19s 345ms/step - loss: 0.1281 - acc: 0.9602 - val_loss: 0.3525 - val_acc: 0.8969\n",
      "Epoch 88/100\n",
      "10/10 [==============================] - 3s 283ms/step - loss: 0.3530 - acc: 0.8813\n",
      "54/54 [==============================] - 19s 344ms/step - loss: 0.1189 - acc: 0.9655 - val_loss: 0.3530 - val_acc: 0.8813\n",
      "Epoch 89/100\n",
      "10/10 [==============================] - 3s 280ms/step - loss: 0.3304 - acc: 0.8969\n",
      "54/54 [==============================] - 18s 342ms/step - loss: 0.1212 - acc: 0.9579 - val_loss: 0.3304 - val_acc: 0.8969\n",
      "Epoch 90/100\n",
      "10/10 [==============================] - 3s 287ms/step - loss: 0.3293 - acc: 0.8844\n",
      "54/54 [==============================] - 19s 344ms/step - loss: 0.1309 - acc: 0.9561 - val_loss: 0.3293 - val_acc: 0.8844\n",
      "Epoch 91/100\n",
      "10/10 [==============================] - 3s 287ms/step - loss: 0.3550 - acc: 0.8844\n",
      "54/54 [==============================] - 19s 345ms/step - loss: 0.1406 - acc: 0.9508 - val_loss: 0.3550 - val_acc: 0.8844\n",
      "Epoch 92/100\n",
      "10/10 [==============================] - 3s 286ms/step - loss: 0.3246 - acc: 0.8938\n",
      "54/54 [==============================] - 19s 345ms/step - loss: 0.1200 - acc: 0.9590 - val_loss: 0.3246 - val_acc: 0.8938\n",
      "Epoch 93/100\n",
      "10/10 [==============================] - 3s 295ms/step - loss: 0.3181 - acc: 0.8906\n",
      "54/54 [==============================] - 19s 345ms/step - loss: 0.1064 - acc: 0.9666 - val_loss: 0.3181 - val_acc: 0.8906\n",
      "Epoch 94/100\n",
      "10/10 [==============================] - 3s 283ms/step - loss: 0.3277 - acc: 0.8875\n",
      "54/54 [==============================] - 18s 342ms/step - loss: 0.1298 - acc: 0.9602 - val_loss: 0.3277 - val_acc: 0.8875\n",
      "Epoch 95/100\n",
      "10/10 [==============================] - 3s 286ms/step - loss: 0.3360 - acc: 0.8938\n",
      "54/54 [==============================] - 19s 345ms/step - loss: 0.1157 - acc: 0.9637 - val_loss: 0.3360 - val_acc: 0.8938\n",
      "Epoch 96/100\n",
      "10/10 [==============================] - 3s 284ms/step - loss: 0.3263 - acc: 0.9000\n",
      "54/54 [==============================] - 19s 344ms/step - loss: 0.1172 - acc: 0.9585 - val_loss: 0.3263 - val_acc: 0.9000\n",
      "Epoch 97/100\n",
      "10/10 [==============================] - 3s 283ms/step - loss: 0.3215 - acc: 0.8938\n",
      "54/54 [==============================] - 18s 342ms/step - loss: 0.1185 - acc: 0.9643 - val_loss: 0.3215 - val_acc: 0.8938\n",
      "Epoch 98/100\n",
      "10/10 [==============================] - 3s 280ms/step - loss: 0.3213 - acc: 0.8938\n",
      "54/54 [==============================] - 19s 344ms/step - loss: 0.1165 - acc: 0.9620 - val_loss: 0.3213 - val_acc: 0.8938\n",
      "Epoch 99/100\n",
      "10/10 [==============================] - 3s 295ms/step - loss: 0.3298 - acc: 0.8844\n",
      "54/54 [==============================] - 19s 345ms/step - loss: 0.1227 - acc: 0.9684 - val_loss: 0.3298 - val_acc: 0.8844\n",
      "Epoch 100/100\n",
      "10/10 [==============================] - 3s 289ms/step - loss: 0.3306 - acc: 0.8969\n",
      "54/54 [==============================] - 19s 344ms/step - loss: 0.1054 - acc: 0.9690 - val_loss: 0.3306 - val_acc: 0.8969\n"
     ]
    }
   ],
   "source": [
    "epochs = 100\n",
    "steps_per_epoch = train_generator.n // batch_size\n",
    "validation_steps = validation_generator.n // batch_size\n",
    "test_steps = test_generator.n // batch_size\n",
    "\n",
    "history = model.fit_generator(\n",
    "    train_generator,\n",
    "    steps_per_epoch = steps_per_epoch,\n",
    "    epochs = epochs, \n",
    "    validation_data = validation_generator,\n",
    "    validation_steps = validation_steps\n",
    ")"
   ]
  },
  {
   "cell_type": "markdown",
   "metadata": {},
   "source": [
    "## Fine tuning"
   ]
  },
  {
   "cell_type": "code",
   "execution_count": null,
   "metadata": {},
   "outputs": [],
   "source": [
    "#Enable chage of all net weight's including the pre-trained\n",
    "epochs_fine = 100\n",
    "model.trainable = True\n",
    "print(\"Number of layers in the base model: \", len(base_model.layers))"
   ]
  },
  {
   "cell_type": "code",
   "execution_count": null,
   "metadata": {},
   "outputs": [],
   "source": [
    "# set the level to fine-tune\n",
    "fine_tune_at = 100\n",
    "\n",
    "# Freeze all the layers before the `fine_tune_at` layer\n",
    "for layer in base_model.layers[:fine_tune_at]:\n",
    "    layer.trainable =  False"
   ]
  },
  {
   "cell_type": "code",
   "execution_count": null,
   "metadata": {},
   "outputs": [],
   "source": [
    "# recompile model with optimizer\n",
    "optimizer = keras.optimizers.SGD(lr=0.0001, momentum=0.9, nesterov=True)\n",
    "#optimizer = tf.keras.optimizers.RMSprop(lr=2e-5)\n",
    "\n",
    "model.compile(optimizer=optimizer,loss='categorical_crossentropy',metrics=['accuracy'])\n",
    "model.summary()"
   ]
  },
  {
   "cell_type": "code",
   "execution_count": null,
   "metadata": {},
   "outputs": [],
   "source": [
    "# fit fine-tuning\n",
    "history_fine = model.fit_generator(train_generator,\n",
    "                                   steps_per_epoch = steps_per_epoch,\n",
    "                                   epochs = epochs_fine,\n",
    "                                   validation_data=validation_generator,\n",
    "                                   validation_steps=validation_steps)"
   ]
  },
  {
   "cell_type": "markdown",
   "metadata": {},
   "source": [
    "## Plotting Validation accuracy/loss"
   ]
  },
  {
   "cell_type": "code",
   "execution_count": 8,
   "metadata": {},
   "outputs": [
    {
     "data": {
      "image/png": "[encoded data removed]",
      "text/plain": [
       "<Figure size 576x576 with 2 Axes>"
      ]
     },
     "metadata": {
      "needs_background": "light"
     },
     "output_type": "display_data"
    }
   ],
   "source": [
    "%matplotlib inline\n",
    "\n",
    "# training and validation accuracy/loss\n",
    "acc = history.history['acc']\n",
    "val_acc = history.history['val_acc']\n",
    "\n",
    "loss = history.history['loss']\n",
    "val_loss = history.history['val_loss']\n",
    "\n",
    "plt.figure(figsize=(8, 8))\n",
    "plt.subplot(2, 1, 1)\n",
    "plt.plot(acc, label='Training Accuracy')\n",
    "plt.plot(val_acc, label='Validation Accuracy')\n",
    "plt.legend(loc='lower right')\n",
    "plt.ylabel('Accuracy')\n",
    "plt.ylim([min(plt.ylim()),1])\n",
    "plt.title('Training and Validation Accuracy')\n",
    "\n",
    "plt.subplot(2, 1, 2)\n",
    "plt.plot(loss, label='Training Loss')\n",
    "plt.plot(val_loss, label='Validation Loss')\n",
    "plt.legend(loc='upper right')\n",
    "plt.ylabel('Cross Entropy')\n",
    "plt.ylim([0,max(plt.ylim())])\n",
    "plt.title('Training and Validation Loss')\n",
    "plt.show()"
   ]
  },
  {
   "cell_type": "markdown",
   "metadata": {},
   "source": [
    "## Plotting confusion matrix"
   ]
  },
  {
   "cell_type": "code",
   "execution_count": 19,
   "metadata": {},
   "outputs": [
    {
     "name": "stdout",
     "output_type": "stream",
     "text": [
      "Confusion Matrix\n",
      "[[62  0  0  5  0]\n",
      " [ 0 71  2  0 11]\n",
      " [ 1  6 53  0  8]\n",
      " [ 4  0  0 94  1]\n",
      " [ 3  5  2  1 77]]\n",
      "Classification Report\n",
      "              precision    recall  f1-score   support\n",
      "\n",
      "   cardboard       0.89      0.93      0.91        67\n",
      "       glass       0.87      0.85      0.86        84\n",
      "       metal       0.93      0.78      0.85        68\n",
      "       paper       0.94      0.95      0.94        99\n",
      "     plastic       0.79      0.88      0.83        88\n",
      "\n",
      "    accuracy                           0.88       406\n",
      "   macro avg       0.88      0.87      0.88       406\n",
      "weighted avg       0.88      0.88      0.88       406\n",
      "\n",
      "406/406 [==============================] - 5s 12ms/sample - loss: 0.3716 - acc: 0.8793\n",
      "Accuracy: 87.9%\n",
      "Loss: 37.2%\n"
     ]
    },
    {
     "data": {
      "image/png": "[encoded data removed]",
      "text/plain": [
       "<Figure size 768x576 with 2 Axes>"
      ]
     },
     "metadata": {
      "needs_background": "light"
     },
     "output_type": "display_data"
    }
   ],
   "source": [
    "# confusion matrix\n",
    "Y_pred = model.predict_generator(test_generator, test_steps)\n",
    "y_pred = np.argmax(Y_pred, axis=1)\n",
    "print('Confusion Matrix')\n",
    "print(confusion_matrix(test_generator.classes, y_pred))\n",
    "\n",
    "# classification report\n",
    "print('Classification Report')\n",
    "print(classification_report(test_generator.classes, y_pred, target_names=categories))\n",
    "\n",
    "# evaluate keras model with model.evaluate()\n",
    "x, y = zip(*(test_generator[i] for i in range(len(test_generator))))\n",
    "x_test, y_test = np.vstack(x), np.vstack(y)\n",
    "loss, acc = model.evaluate(x_test, y_test, batch_size=32)\n",
    "\n",
    "print(\"Accuracy: {0:0.1f}%\".format(acc * 100))\n",
    "print(\"Loss: {0:0.1f}%\".format(loss * 100))\n",
    "\n",
    "\n",
    "plot_confusion_matrix(test_generator.classes, y_pred, categories)"
   ]
  }
 ],
 "metadata": {
  "kernelspec": {
   "display_name": "Python 3",
   "language": "python",
   "name": "python3"
  },
  "language_info": {
   "codemirror_mode": {
    "name": "ipython",
    "version": 3
   },
   "file_extension": ".py",
   "mimetype": "text/x-python",
   "name": "python",
   "nbconvert_exporter": "python",
   "pygments_lexer": "ipython3",
   "version": "3.7.3"
  }
 },
 "nbformat": 4,
 "nbformat_minor": 2
}
